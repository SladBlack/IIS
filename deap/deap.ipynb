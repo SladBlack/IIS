{
 "cells": [
  {
   "cell_type": "markdown",
   "metadata": {},
   "source": [
    "### Устанавливаем библиотеки"
   ]
  },
  {
   "cell_type": "code",
   "execution_count": 1,
   "metadata": {},
   "outputs": [
    {
     "name": "stdout",
     "output_type": "stream",
     "text": [
      "Defaulting to user installation because normal site-packages is not writeable\n",
      "Requirement already satisfied: deap in c:\\users\\alex\\appdata\\roaming\\python\\python311\\site-packages (1.3.3)\n",
      "Requirement already satisfied: numpy in c:\\users\\alex\\appdata\\roaming\\python\\python311\\site-packages (from deap) (1.24.1)\n",
      "Defaulting to user installation because normal site-packages is not writeable\n",
      "Requirement already satisfied: matplotlib in c:\\users\\alex\\appdata\\roaming\\python\\python311\\site-packages (3.6.2)\n",
      "Requirement already satisfied: contourpy>=1.0.1 in c:\\users\\alex\\appdata\\roaming\\python\\python311\\site-packages (from matplotlib) (1.0.6)\n",
      "Requirement already satisfied: cycler>=0.10 in c:\\users\\alex\\appdata\\roaming\\python\\python311\\site-packages (from matplotlib) (0.11.0)\n",
      "Requirement already satisfied: fonttools>=4.22.0 in c:\\users\\alex\\appdata\\roaming\\python\\python311\\site-packages (from matplotlib) (4.38.0)\n",
      "Requirement already satisfied: kiwisolver>=1.0.1 in c:\\users\\alex\\appdata\\roaming\\python\\python311\\site-packages (from matplotlib) (1.4.4)\n",
      "Requirement already satisfied: numpy>=1.19 in c:\\users\\alex\\appdata\\roaming\\python\\python311\\site-packages (from matplotlib) (1.24.1)\n",
      "Requirement already satisfied: packaging>=20.0 in c:\\users\\alex\\appdata\\roaming\\python\\python311\\site-packages (from matplotlib) (22.0)\n",
      "Requirement already satisfied: pillow>=6.2.0 in c:\\users\\alex\\appdata\\roaming\\python\\python311\\site-packages (from matplotlib) (9.4.0)\n",
      "Requirement already satisfied: pyparsing>=2.2.1 in c:\\users\\alex\\appdata\\roaming\\python\\python311\\site-packages\\pyparsing-3.0.9-py3.11.egg (from matplotlib) (3.0.9)\n",
      "Requirement already satisfied: python-dateutil>=2.7 in c:\\users\\alex\\appdata\\roaming\\python\\python311\\site-packages (from matplotlib) (2.8.2)\n",
      "Requirement already satisfied: six>=1.5 in c:\\users\\alex\\appdata\\roaming\\python\\python311\\site-packages (from python-dateutil>=2.7->matplotlib) (1.16.0)\n"
     ]
    }
   ],
   "source": [
    "!pip install deap\n",
    "!pip install matplotlib"
   ]
  },
  {
   "cell_type": "markdown",
   "metadata": {},
   "source": [
    "### Импортируем библиотеки"
   ]
  },
  {
   "cell_type": "code",
   "execution_count": 2,
   "metadata": {},
   "outputs": [],
   "source": [
    "import random\n",
    "import numpy as np\n",
    "\n",
    "import matplotlib.pyplot as plt\n",
    "from deap import algorithms, base, creator, tools"
   ]
  },
  {
   "cell_type": "markdown",
   "metadata": {},
   "source": [
    "### Создаем классы FitnessMax и Individual"
   ]
  },
  {
   "cell_type": "code",
   "execution_count": 3,
   "metadata": {},
   "outputs": [],
   "source": [
    "creator.create(\"FitnessMax\", base.Fitness, weights=(1.0,))\n",
    "creator.create(\"Individual\", list, fitness=creator.FitnessMax)"
   ]
  },
  {
   "cell_type": "markdown",
   "metadata": {},
   "source": [
    "### Инициализация"
   ]
  },
  {
   "cell_type": "code",
   "execution_count": 4,
   "metadata": {},
   "outputs": [],
   "source": [
    "toolbox = base.Toolbox()\n",
    "toolbox.register(\"indices\", random.randint, 0, 5)\n",
    "toolbox.register(\"individual\", tools.initRepeat, creator.Individual, toolbox.indices, 7)"
   ]
  },
  {
   "cell_type": "markdown",
   "source": [
    "### Отбор"
   ],
   "metadata": {
    "collapsed": false
   }
  },
  {
   "cell_type": "code",
   "execution_count": 5,
   "outputs": [],
   "source": [
    "toolbox.register(\"select\", tools.selTournament, tournsize=3) # Турнирный отбор"
   ],
   "metadata": {
    "collapsed": false
   }
  },
  {
   "cell_type": "markdown",
   "source": [
    "### Скрещивание/Кроссовер"
   ],
   "metadata": {
    "collapsed": false
   }
  },
  {
   "cell_type": "code",
   "execution_count": 6,
   "outputs": [],
   "source": [
    "toolbox.register(\"mate\", tools.cxOnePoint) # Одноточечный"
   ],
   "metadata": {
    "collapsed": false
   }
  },
  {
   "cell_type": "markdown",
   "source": [
    "### Мутация"
   ],
   "metadata": {
    "collapsed": false
   }
  },
  {
   "cell_type": "code",
   "execution_count": 7,
   "outputs": [],
   "source": [
    "# Меняет на противоположное значение ген\n",
    "toolbox.register(\"mutate\", tools.mutFlipBit, indpb=0.05)"
   ],
   "metadata": {
    "collapsed": false
   }
  },
  {
   "cell_type": "markdown",
   "source": [
    "### Определение популяции"
   ],
   "metadata": {
    "collapsed": false
   }
  },
  {
   "cell_type": "code",
   "execution_count": 8,
   "outputs": [],
   "source": [
    "toolbox.register(\"population\", tools.initRepeat, list, toolbox.individual)"
   ],
   "metadata": {
    "collapsed": false
   }
  },
  {
   "cell_type": "markdown",
   "source": [
    "### Регистрация фитнес-функции"
   ],
   "metadata": {
    "collapsed": false
   }
  },
  {
   "cell_type": "code",
   "execution_count": 9,
   "outputs": [],
   "source": [
    "def eval_one_max(individual):\n",
    "    \"\"\"\n",
    "    Количество элементов = 1 (истина)\n",
    "    \"\"\"\n",
    "    return sum(individual),\n",
    "\n",
    "toolbox.register(\"evaluate\", eval_one_max)"
   ],
   "metadata": {
    "collapsed": false
   }
  },
  {
   "cell_type": "markdown",
   "source": [
    "### Определение зала славы и статистики"
   ],
   "metadata": {
    "collapsed": false
   }
  },
  {
   "cell_type": "code",
   "execution_count": 10,
   "outputs": [],
   "source": [
    "hof = tools.HallOfFame(1)\n",
    "stats = tools.Statistics(lambda ind: ind.fitness.values)\n",
    "stats.register(\"avg\", np.mean)\n",
    "stats.register(\"std\", np.std)\n",
    "stats.register(\"min\", np.min)\n",
    "stats.register(\"max\", np.max)"
   ],
   "metadata": {
    "collapsed": false
   }
  },
  {
   "cell_type": "markdown",
   "source": [
    "### Запуск генетического алгоритма"
   ],
   "metadata": {
    "collapsed": false
   }
  },
  {
   "cell_type": "code",
   "execution_count": 11,
   "outputs": [
    {
     "name": "stdout",
     "output_type": "stream",
     "text": [
      "gen\tnevals\tavg  \tstd    \tmin\tmax\n",
      "0  \t300   \t17.77\t4.61488\t5  \t30 \n",
      "1  \t80    \t21.78\t3.55972\t13 \t30 \n",
      "2  \t78    \t24.96\t3.42905\t19 \t34 \n",
      "3  \t80    \t28.06\t2.70858\t22 \t34 \n",
      "4  \t77    \t30.25\t2.42642\t25 \t34 \n",
      "5  \t83    \t32.04\t1.8051 \t28 \t34 \n",
      "6  \t82    \t33.61\t0.84729\t30 \t35 \n",
      "7  \t84    \t34.03\t0.221585\t33 \t35 \n",
      "8  \t78    \t34.14\t0.346987\t34 \t35 \n",
      "9  \t77    \t34.4 \t0.489898\t34 \t35 \n",
      "10 \t79    \t34.79\t0.407308\t34 \t35 \n",
      "11 \t75    \t35   \t0       \t35 \t35 \n",
      "12 \t81    \t35   \t0       \t35 \t35 \n",
      "13 \t81    \t35   \t0       \t35 \t35 \n",
      "14 \t80    \t35   \t0       \t35 \t35 \n",
      "15 \t77    \t35   \t0       \t35 \t35 \n",
      "16 \t80    \t35   \t0       \t35 \t35 \n",
      "17 \t86    \t35   \t0       \t35 \t35 \n",
      "18 \t84    \t35   \t0       \t35 \t35 \n",
      "19 \t75    \t35   \t0       \t35 \t35 \n",
      "20 \t82    \t35   \t0       \t35 \t35 \n",
      "21 \t84    \t35   \t0       \t35 \t35 \n",
      "22 \t82    \t35   \t0       \t35 \t35 \n",
      "23 \t78    \t35   \t0       \t35 \t35 \n",
      "24 \t79    \t35   \t0       \t35 \t35 \n",
      "25 \t84    \t35   \t0       \t35 \t35 \n",
      "26 \t75    \t35   \t0       \t35 \t35 \n",
      "27 \t82    \t35   \t0       \t35 \t35 \n",
      "28 \t85    \t35   \t0       \t35 \t35 \n",
      "29 \t81    \t35   \t0       \t35 \t35 \n",
      "30 \t83    \t35   \t0       \t35 \t35 \n",
      "31 \t77    \t35   \t0       \t35 \t35 \n",
      "32 \t79    \t35   \t0       \t35 \t35 \n",
      "33 \t80    \t35   \t0       \t35 \t35 \n",
      "34 \t83    \t35   \t0       \t35 \t35 \n",
      "35 \t82    \t35   \t0       \t35 \t35 \n",
      "36 \t79    \t35   \t0       \t35 \t35 \n",
      "37 \t83    \t35   \t0       \t35 \t35 \n",
      "38 \t78    \t35   \t0       \t35 \t35 \n",
      "39 \t84    \t35   \t0       \t35 \t35 \n",
      "40 \t86    \t35   \t0       \t35 \t35 \n",
      "41 \t76    \t35   \t0       \t35 \t35 \n",
      "42 \t77    \t35   \t0       \t35 \t35 \n",
      "43 \t82    \t35   \t0       \t35 \t35 \n",
      "44 \t75    \t35   \t0       \t35 \t35 \n",
      "45 \t75    \t35   \t0       \t35 \t35 \n",
      "46 \t79    \t35   \t0       \t35 \t35 \n",
      "47 \t74    \t35   \t0       \t35 \t35 \n",
      "48 \t82    \t35   \t0       \t35 \t35 \n",
      "49 \t72    \t35   \t0       \t35 \t35 \n",
      "50 \t83    \t35   \t0       \t35 \t35 \n",
      "51 \t84    \t35   \t0       \t35 \t35 \n",
      "52 \t87    \t35   \t0       \t35 \t35 \n",
      "53 \t85    \t35   \t0       \t35 \t35 \n",
      "54 \t82    \t35   \t0       \t35 \t35 \n",
      "55 \t80    \t35   \t0       \t35 \t35 \n",
      "56 \t77    \t35   \t0       \t35 \t35 \n",
      "57 \t81    \t35   \t0       \t35 \t35 \n",
      "58 \t83    \t35   \t0       \t35 \t35 \n",
      "59 \t76    \t35   \t0       \t35 \t35 \n",
      "60 \t78    \t35   \t0       \t35 \t35 \n",
      "61 \t83    \t35   \t0       \t35 \t35 \n",
      "62 \t82    \t35   \t0       \t35 \t35 \n",
      "63 \t84    \t35   \t0       \t35 \t35 \n",
      "64 \t83    \t35   \t0       \t35 \t35 \n",
      "65 \t79    \t35   \t0       \t35 \t35 \n",
      "66 \t81    \t35   \t0       \t35 \t35 \n",
      "67 \t81    \t35   \t0       \t35 \t35 \n",
      "68 \t79    \t35   \t0       \t35 \t35 \n",
      "69 \t87    \t35   \t0       \t35 \t35 \n",
      "70 \t74    \t35   \t0       \t35 \t35 \n",
      "71 \t78    \t35   \t0       \t35 \t35 \n",
      "72 \t82    \t35   \t0       \t35 \t35 \n",
      "73 \t79    \t35   \t0       \t35 \t35 \n",
      "74 \t88    \t35   \t0       \t35 \t35 \n",
      "75 \t79    \t35   \t0       \t35 \t35 \n",
      "76 \t74    \t35   \t0       \t35 \t35 \n",
      "77 \t81    \t35   \t0       \t35 \t35 \n",
      "78 \t86    \t35   \t0       \t35 \t35 \n",
      "79 \t85    \t35   \t0       \t35 \t35 \n",
      "80 \t80    \t35   \t0       \t35 \t35 \n",
      "81 \t79    \t35   \t0       \t35 \t35 \n",
      "82 \t84    \t35   \t0       \t35 \t35 \n",
      "83 \t82    \t35   \t0       \t35 \t35 \n",
      "84 \t78    \t35   \t0       \t35 \t35 \n",
      "85 \t84    \t35   \t0       \t35 \t35 \n",
      "86 \t79    \t35   \t0       \t35 \t35 \n",
      "87 \t80    \t35   \t0       \t35 \t35 \n",
      "88 \t79    \t35   \t0       \t35 \t35 \n",
      "89 \t78    \t35   \t0       \t35 \t35 \n",
      "90 \t86    \t35   \t0       \t35 \t35 \n",
      "91 \t72    \t35   \t0       \t35 \t35 \n",
      "92 \t85    \t35   \t0       \t35 \t35 \n",
      "93 \t79    \t35   \t0       \t35 \t35 \n",
      "94 \t84    \t35   \t0       \t35 \t35 \n",
      "95 \t74    \t35   \t0       \t35 \t35 \n",
      "96 \t77    \t35   \t0       \t35 \t35 \n",
      "97 \t72    \t35   \t0       \t35 \t35 \n",
      "98 \t82    \t35   \t0       \t35 \t35 \n",
      "99 \t74    \t35   \t0       \t35 \t35 \n",
      "100\t78    \t35   \t0       \t35 \t35 \n",
      "101\t79    \t35   \t0       \t35 \t35 \n",
      "102\t80    \t35   \t0       \t35 \t35 \n",
      "103\t81    \t35   \t0       \t35 \t35 \n",
      "104\t83    \t35   \t0       \t35 \t35 \n",
      "105\t87    \t35   \t0       \t35 \t35 \n",
      "106\t87    \t35   \t0       \t35 \t35 \n",
      "107\t86    \t35   \t0       \t35 \t35 \n",
      "108\t73    \t35   \t0       \t35 \t35 \n",
      "109\t85    \t35   \t0       \t35 \t35 \n",
      "110\t84    \t35   \t0       \t35 \t35 \n",
      "111\t82    \t35   \t0       \t35 \t35 \n",
      "112\t75    \t35   \t0       \t35 \t35 \n",
      "113\t79    \t35   \t0       \t35 \t35 \n",
      "114\t85    \t35   \t0       \t35 \t35 \n",
      "115\t81    \t35   \t0       \t35 \t35 \n",
      "116\t80    \t35   \t0       \t35 \t35 \n",
      "117\t82    \t35   \t0       \t35 \t35 \n",
      "118\t83    \t35   \t0       \t35 \t35 \n",
      "119\t81    \t35   \t0       \t35 \t35 \n",
      "120\t88    \t35   \t0       \t35 \t35 \n",
      "121\t84    \t35   \t0       \t35 \t35 \n",
      "122\t82    \t35   \t0       \t35 \t35 \n",
      "123\t83    \t35   \t0       \t35 \t35 \n",
      "124\t86    \t35   \t0       \t35 \t35 \n",
      "125\t66    \t35   \t0       \t35 \t35 \n",
      "126\t80    \t35   \t0       \t35 \t35 \n",
      "127\t81    \t35   \t0       \t35 \t35 \n",
      "128\t82    \t35   \t0       \t35 \t35 \n",
      "129\t85    \t35   \t0       \t35 \t35 \n",
      "130\t79    \t35   \t0       \t35 \t35 \n",
      "131\t81    \t35   \t0       \t35 \t35 \n",
      "132\t81    \t35   \t0       \t35 \t35 \n",
      "133\t86    \t35   \t0       \t35 \t35 \n",
      "134\t82    \t35   \t0       \t35 \t35 \n",
      "135\t78    \t35   \t0       \t35 \t35 \n",
      "136\t84    \t35   \t0       \t35 \t35 \n",
      "137\t78    \t35   \t0       \t35 \t35 \n",
      "138\t83    \t35   \t0       \t35 \t35 \n",
      "139\t77    \t35   \t0       \t35 \t35 \n",
      "140\t83    \t35   \t0       \t35 \t35 \n",
      "141\t87    \t35   \t0       \t35 \t35 \n",
      "142\t82    \t35   \t0       \t35 \t35 \n",
      "143\t82    \t35   \t0       \t35 \t35 \n",
      "144\t88    \t35   \t0       \t35 \t35 \n",
      "145\t82    \t35   \t0       \t35 \t35 \n",
      "146\t81    \t35   \t0       \t35 \t35 \n",
      "147\t83    \t35   \t0       \t35 \t35 \n",
      "148\t84    \t35   \t0       \t35 \t35 \n",
      "149\t80    \t35   \t0       \t35 \t35 \n",
      "150\t81    \t35   \t0       \t35 \t35 \n",
      "151\t72    \t35   \t0       \t35 \t35 \n",
      "152\t79    \t34.95\t0.497494\t30 \t35 \n",
      "153\t74    \t35   \t0       \t35 \t35 \n",
      "154\t80    \t35   \t0       \t35 \t35 \n",
      "155\t81    \t35   \t0       \t35 \t35 \n",
      "156\t77    \t35   \t0       \t35 \t35 \n",
      "157\t74    \t35   \t0       \t35 \t35 \n",
      "158\t78    \t35   \t0       \t35 \t35 \n",
      "159\t82    \t35   \t0       \t35 \t35 \n",
      "160\t78    \t35   \t0       \t35 \t35 \n",
      "161\t85    \t35   \t0       \t35 \t35 \n",
      "162\t83    \t35   \t0       \t35 \t35 \n",
      "163\t84    \t35   \t0       \t35 \t35 \n",
      "164\t74    \t35   \t0       \t35 \t35 \n",
      "165\t80    \t35   \t0       \t35 \t35 \n",
      "166\t83    \t35   \t0       \t35 \t35 \n",
      "167\t81    \t35   \t0       \t35 \t35 \n",
      "168\t80    \t35   \t0       \t35 \t35 \n",
      "169\t82    \t35   \t0       \t35 \t35 \n",
      "170\t82    \t35   \t0       \t35 \t35 \n",
      "171\t79    \t35   \t0       \t35 \t35 \n",
      "172\t75    \t35   \t0       \t35 \t35 \n",
      "173\t77    \t35   \t0       \t35 \t35 \n",
      "174\t83    \t35   \t0       \t35 \t35 \n",
      "175\t81    \t35   \t0       \t35 \t35 \n",
      "176\t74    \t35   \t0       \t35 \t35 \n",
      "177\t76    \t35   \t0       \t35 \t35 \n",
      "178\t81    \t35   \t0       \t35 \t35 \n",
      "179\t84    \t35   \t0       \t35 \t35 \n",
      "180\t78    \t35   \t0       \t35 \t35 \n",
      "181\t84    \t35   \t0       \t35 \t35 \n",
      "182\t86    \t35   \t0       \t35 \t35 \n",
      "183\t84    \t35   \t0       \t35 \t35 \n",
      "184\t76    \t35   \t0       \t35 \t35 \n",
      "185\t80    \t35   \t0       \t35 \t35 \n",
      "186\t77    \t35   \t0       \t35 \t35 \n",
      "187\t80    \t35   \t0       \t35 \t35 \n",
      "188\t79    \t35   \t0       \t35 \t35 \n",
      "189\t82    \t35   \t0       \t35 \t35 \n",
      "190\t77    \t35   \t0       \t35 \t35 \n",
      "191\t80    \t35   \t0       \t35 \t35 \n",
      "192\t80    \t35   \t0       \t35 \t35 \n",
      "193\t87    \t35   \t0       \t35 \t35 \n",
      "194\t80    \t35   \t0       \t35 \t35 \n",
      "195\t80    \t35   \t0       \t35 \t35 \n",
      "196\t83    \t35   \t0       \t35 \t35 \n",
      "197\t81    \t35   \t0       \t35 \t35 \n",
      "198\t86    \t35   \t0       \t35 \t35 \n",
      "199\t89    \t35   \t0       \t35 \t35 \n",
      "200\t82    \t35   \t0       \t35 \t35 \n",
      "201\t69    \t35   \t0       \t35 \t35 \n",
      "202\t77    \t35   \t0       \t35 \t35 \n",
      "203\t77    \t35   \t0       \t35 \t35 \n",
      "204\t81    \t35   \t0       \t35 \t35 \n",
      "205\t78    \t35   \t0       \t35 \t35 \n",
      "206\t77    \t35   \t0       \t35 \t35 \n",
      "207\t78    \t35   \t0       \t35 \t35 \n",
      "208\t85    \t35   \t0       \t35 \t35 \n",
      "209\t84    \t35   \t0       \t35 \t35 \n",
      "210\t83    \t35   \t0       \t35 \t35 \n",
      "211\t85    \t35   \t0       \t35 \t35 \n",
      "212\t82    \t35   \t0       \t35 \t35 \n",
      "213\t83    \t35   \t0       \t35 \t35 \n",
      "214\t82    \t35   \t0       \t35 \t35 \n",
      "215\t87    \t35   \t0       \t35 \t35 \n",
      "216\t82    \t35   \t0       \t35 \t35 \n",
      "217\t81    \t35   \t0       \t35 \t35 \n",
      "218\t74    \t35   \t0       \t35 \t35 \n",
      "219\t78    \t35   \t0       \t35 \t35 \n",
      "220\t76    \t35   \t0       \t35 \t35 \n",
      "221\t86    \t35   \t0       \t35 \t35 \n",
      "222\t80    \t35   \t0       \t35 \t35 \n",
      "223\t75    \t34.95\t0.497494\t30 \t35 \n",
      "224\t75    \t35   \t0       \t35 \t35 \n",
      "225\t77    \t35   \t0       \t35 \t35 \n",
      "226\t86    \t35   \t0       \t35 \t35 \n",
      "227\t82    \t35   \t0       \t35 \t35 \n",
      "228\t84    \t35   \t0       \t35 \t35 \n",
      "229\t87    \t35   \t0       \t35 \t35 \n",
      "230\t80    \t35   \t0       \t35 \t35 \n",
      "231\t85    \t35   \t0       \t35 \t35 \n",
      "232\t79    \t35   \t0       \t35 \t35 \n",
      "233\t74    \t35   \t0       \t35 \t35 \n",
      "234\t77    \t35   \t0       \t35 \t35 \n",
      "235\t79    \t35   \t0       \t35 \t35 \n",
      "236\t85    \t35   \t0       \t35 \t35 \n",
      "237\t81    \t35   \t0       \t35 \t35 \n",
      "238\t78    \t35   \t0       \t35 \t35 \n",
      "239\t82    \t35   \t0       \t35 \t35 \n",
      "240\t80    \t35   \t0       \t35 \t35 \n",
      "241\t79    \t35   \t0       \t35 \t35 \n",
      "242\t80    \t35   \t0       \t35 \t35 \n",
      "243\t79    \t35   \t0       \t35 \t35 \n",
      "244\t85    \t35   \t0       \t35 \t35 \n",
      "245\t75    \t35   \t0       \t35 \t35 \n",
      "246\t78    \t35   \t0       \t35 \t35 \n",
      "247\t84    \t35   \t0       \t35 \t35 \n",
      "248\t83    \t35   \t0       \t35 \t35 \n",
      "249\t80    \t35   \t0       \t35 \t35 \n",
      "250\t90    \t35   \t0       \t35 \t35 \n",
      "251\t75    \t34.95\t0.497494\t30 \t35 \n",
      "252\t81    \t35   \t0       \t35 \t35 \n",
      "253\t82    \t35   \t0       \t35 \t35 \n",
      "254\t80    \t35   \t0       \t35 \t35 \n",
      "255\t79    \t35   \t0       \t35 \t35 \n",
      "256\t74    \t35   \t0       \t35 \t35 \n",
      "257\t76    \t35   \t0       \t35 \t35 \n",
      "258\t79    \t35   \t0       \t35 \t35 \n",
      "259\t73    \t35   \t0       \t35 \t35 \n",
      "260\t81    \t35   \t0       \t35 \t35 \n",
      "261\t80    \t35   \t0       \t35 \t35 \n",
      "262\t80    \t35   \t0       \t35 \t35 \n",
      "263\t79    \t35   \t0       \t35 \t35 \n",
      "264\t80    \t35   \t0       \t35 \t35 \n",
      "265\t79    \t35   \t0       \t35 \t35 \n",
      "266\t82    \t35   \t0       \t35 \t35 \n",
      "267\t85    \t35   \t0       \t35 \t35 \n",
      "268\t80    \t35   \t0       \t35 \t35 \n",
      "269\t73    \t35   \t0       \t35 \t35 \n",
      "270\t76    \t35   \t0       \t35 \t35 \n",
      "271\t79    \t35   \t0       \t35 \t35 \n",
      "272\t75    \t35   \t0       \t35 \t35 \n",
      "273\t87    \t35   \t0       \t35 \t35 \n",
      "274\t82    \t35   \t0       \t35 \t35 \n",
      "275\t82    \t35   \t0       \t35 \t35 \n",
      "276\t87    \t35   \t0       \t35 \t35 \n",
      "277\t86    \t35   \t0       \t35 \t35 \n",
      "278\t81    \t35   \t0       \t35 \t35 \n",
      "279\t82    \t35   \t0       \t35 \t35 \n",
      "280\t77    \t35   \t0       \t35 \t35 \n",
      "281\t83    \t35   \t0       \t35 \t35 \n",
      "282\t82    \t35   \t0       \t35 \t35 \n",
      "283\t79    \t35   \t0       \t35 \t35 \n",
      "284\t75    \t35   \t0       \t35 \t35 \n",
      "285\t78    \t35   \t0       \t35 \t35 \n",
      "286\t84    \t35   \t0       \t35 \t35 \n",
      "287\t76    \t35   \t0       \t35 \t35 \n",
      "288\t74    \t35   \t0       \t35 \t35 \n",
      "289\t80    \t35   \t0       \t35 \t35 \n",
      "290\t81    \t35   \t0       \t35 \t35 \n",
      "291\t76    \t35   \t0       \t35 \t35 \n",
      "292\t81    \t35   \t0       \t35 \t35 \n",
      "293\t82    \t35   \t0       \t35 \t35 \n",
      "294\t83    \t35   \t0       \t35 \t35 \n",
      "295\t80    \t35   \t0       \t35 \t35 \n",
      "296\t74    \t35   \t0       \t35 \t35 \n",
      "297\t75    \t35   \t0       \t35 \t35 \n",
      "298\t80    \t35   \t0       \t35 \t35 \n",
      "299\t81    \t35   \t0       \t35 \t35 \n",
      "300\t84    \t35   \t0       \t35 \t35 \n"
     ]
    }
   ],
   "source": [
    "pop = toolbox.population(n=300)\n",
    "\n",
    "ngen = 300\n",
    "mu = 100\n",
    "lambda_ = 100\n",
    "cxpb = 0.5\n",
    "mutpb = 0.3\n",
    "\n",
    "pop, log = algorithms.eaMuPlusLambda(\n",
    "    pop,\n",
    "    toolbox,\n",
    "    mu=mu,\n",
    "    lambda_=lambda_,\n",
    "    cxpb=cxpb,\n",
    "    mutpb=mutpb,\n",
    "    ngen=ngen,\n",
    "    stats=stats,\n",
    "    verbose=True,\n",
    "    halloffame=hof,\n",
    ") # Стратегия (μ+λ)"
   ],
   "metadata": {
    "collapsed": false
   }
  },
  {
   "cell_type": "markdown",
   "source": [
    "### Итоговая популяция"
   ],
   "metadata": {
    "collapsed": false
   }
  },
  {
   "cell_type": "code",
   "execution_count": 12,
   "outputs": [
    {
     "name": "stdout",
     "output_type": "stream",
     "text": [
      "[5, 5, 5, 5, 5, 5, 5]\n",
      "[5, 5, 5, 5, 5, 5, 5]\n",
      "[5, 5, 5, 5, 5, 5, 5]\n",
      "[5, 5, 5, 5, 5, 5, 5]\n",
      "[5, 5, 5, 5, 5, 5, 5]\n",
      "[5, 5, 5, 5, 5, 5, 5]\n",
      "[5, 5, 5, 5, 5, 5, 5]\n",
      "[5, 5, 5, 5, 5, 5, 5]\n",
      "[5, 5, 5, 5, 5, 5, 5]\n",
      "[5, 5, 5, 5, 5, 5, 5]\n",
      "[5, 5, 5, 5, 5, 5, 5]\n",
      "[5, 5, 5, 5, 5, 5, 5]\n",
      "[5, 5, 5, 5, 5, 5, 5]\n",
      "[5, 5, 5, 5, 5, 5, 5]\n",
      "[5, 5, 5, 5, 5, 5, 5]\n",
      "[5, 5, 5, 5, 5, 5, 5]\n",
      "[5, 5, 5, 5, 5, 5, 5]\n",
      "[5, 5, 5, 5, 5, 5, 5]\n",
      "[5, 5, 5, 5, 5, 5, 5]\n",
      "[5, 5, 5, 5, 5, 5, 5]\n",
      "[5, 5, 5, 5, 5, 5, 5]\n",
      "[5, 5, 5, 5, 5, 5, 5]\n",
      "[5, 5, 5, 5, 5, 5, 5]\n",
      "[5, 5, 5, 5, 5, 5, 5]\n",
      "[5, 5, 5, 5, 5, 5, 5]\n",
      "[5, 5, 5, 5, 5, 5, 5]\n",
      "[5, 5, 5, 5, 5, 5, 5]\n",
      "[5, 5, 5, 5, 5, 5, 5]\n",
      "[5, 5, 5, 5, 5, 5, 5]\n",
      "[5, 5, 5, 5, 5, 5, 5]\n",
      "[5, 5, 5, 5, 5, 5, 5]\n",
      "[5, 5, 5, 5, 5, 5, 5]\n",
      "[5, 5, 5, 5, 5, 5, 5]\n",
      "[5, 5, 5, 5, 5, 5, 5]\n",
      "[5, 5, 5, 5, 5, 5, 5]\n",
      "[5, 5, 5, 5, 5, 5, 5]\n",
      "[5, 5, 5, 5, 5, 5, 5]\n",
      "[5, 5, 5, 5, 5, 5, 5]\n",
      "[5, 5, 5, 5, 5, 5, 5]\n",
      "[5, 5, 5, 5, 5, 5, 5]\n",
      "[5, 5, 5, 5, 5, 5, 5]\n",
      "[5, 5, 5, 5, 5, 5, 5]\n",
      "[5, 5, 5, 5, 5, 5, 5]\n",
      "[5, 5, 5, 5, 5, 5, 5]\n",
      "[5, 5, 5, 5, 5, 5, 5]\n",
      "[5, 5, 5, 5, 5, 5, 5]\n",
      "[5, 5, 5, 5, 5, 5, 5]\n",
      "[5, 5, 5, 5, 5, 5, 5]\n",
      "[5, 5, 5, 5, 5, 5, 5]\n",
      "[5, 5, 5, 5, 5, 5, 5]\n",
      "[5, 5, 5, 5, 5, 5, 5]\n",
      "[5, 5, 5, 5, 5, 5, 5]\n",
      "[5, 5, 5, 5, 5, 5, 5]\n",
      "[5, 5, 5, 5, 5, 5, 5]\n",
      "[5, 5, 5, 5, 5, 5, 5]\n",
      "[5, 5, 5, 5, 5, 5, 5]\n",
      "[5, 5, 5, 5, 5, 5, 5]\n",
      "[5, 5, 5, 5, 5, 5, 5]\n",
      "[5, 5, 5, 5, 5, 5, 5]\n",
      "[5, 5, 5, 5, 5, 5, 5]\n",
      "[5, 5, 5, 5, 5, 5, 5]\n",
      "[5, 5, 5, 5, 5, 5, 5]\n",
      "[5, 5, 5, 5, 5, 5, 5]\n",
      "[5, 5, 5, 5, 5, 5, 5]\n",
      "[5, 5, 5, 5, 5, 5, 5]\n",
      "[5, 5, 5, 5, 5, 5, 5]\n",
      "[5, 5, 5, 5, 5, 5, 5]\n",
      "[5, 5, 5, 5, 5, 5, 5]\n",
      "[5, 5, 5, 5, 5, 5, 5]\n",
      "[5, 5, 5, 5, 5, 5, 5]\n",
      "[5, 5, 5, 5, 5, 5, 5]\n",
      "[5, 5, 5, 5, 5, 5, 5]\n",
      "[5, 5, 5, 5, 5, 5, 5]\n",
      "[5, 5, 5, 5, 5, 5, 5]\n",
      "[5, 5, 5, 5, 5, 5, 5]\n",
      "[5, 5, 5, 5, 5, 5, 5]\n",
      "[5, 5, 5, 5, 5, 5, 5]\n",
      "[5, 5, 5, 5, 5, 5, 5]\n",
      "[5, 5, 5, 5, 5, 5, 5]\n",
      "[5, 5, 5, 5, 5, 5, 5]\n",
      "[5, 5, 5, 5, 5, 5, 5]\n",
      "[5, 5, 5, 5, 5, 5, 5]\n",
      "[5, 5, 5, 5, 5, 5, 5]\n",
      "[5, 5, 5, 5, 5, 5, 5]\n",
      "[5, 5, 5, 5, 5, 5, 5]\n",
      "[5, 5, 5, 5, 5, 5, 5]\n",
      "[5, 5, 5, 5, 5, 5, 5]\n",
      "[5, 5, 5, 5, 5, 5, 5]\n",
      "[5, 5, 5, 5, 5, 5, 5]\n",
      "[5, 5, 5, 5, 5, 5, 5]\n",
      "[5, 5, 5, 5, 5, 5, 5]\n",
      "[5, 5, 5, 5, 5, 5, 5]\n",
      "[5, 5, 5, 5, 5, 5, 5]\n",
      "[5, 5, 5, 5, 5, 5, 5]\n",
      "[5, 5, 5, 5, 5, 5, 5]\n",
      "[5, 5, 5, 5, 5, 5, 5]\n",
      "[5, 5, 5, 5, 5, 5, 5]\n",
      "[5, 5, 5, 5, 5, 5, 5]\n",
      "[5, 5, 5, 5, 5, 5, 5]\n",
      "[5, 5, 5, 5, 5, 5, 5]\n",
      "\n",
      "Length: 100\n"
     ]
    }
   ],
   "source": [
    "for p in pop:\n",
    "    print(p)\n",
    "\n",
    "length = len(pop)\n",
    "print(f'\\nLength: {length}')"
   ],
   "metadata": {
    "collapsed": false
   }
  },
  {
   "cell_type": "markdown",
   "source": [
    "### Лучшая особь"
   ],
   "metadata": {
    "collapsed": false
   }
  },
  {
   "cell_type": "code",
   "execution_count": 13,
   "outputs": [
    {
     "name": "stdout",
     "output_type": "stream",
     "text": [
      "Лучшая особь: [5, 5, 5, 5, 5, 5, 5], (35.0,)\n"
     ]
    }
   ],
   "source": [
    "best_ind = tools.selBest(pop, length)[length-1]\n",
    "print(f'Лучшая особь: {best_ind}, {best_ind.fitness.values}')"
   ],
   "metadata": {
    "collapsed": false
   }
  },
  {
   "cell_type": "markdown",
   "source": [
    "### График изменения среднего значения от генерации"
   ],
   "metadata": {
    "collapsed": false
   }
  },
  {
   "cell_type": "code",
   "execution_count": 14,
   "outputs": [
    {
     "data": {
      "text/plain": "[<matplotlib.lines.Line2D at 0x1f5eb2d43d0>]"
     },
     "execution_count": 14,
     "metadata": {},
     "output_type": "execute_result"
    },
    {
     "data": {
      "text/plain": "<Figure size 640x480 with 1 Axes>",
      "image/png": "[encoded data removed]"
     },
     "metadata": {},
     "output_type": "display_data"
    }
   ],
   "source": [
    "means = [log_item['avg'] for log_item in log]\n",
    "plt.plot(range(len(means)), means, linewidth=2.0)"
   ],
   "metadata": {
    "collapsed": false
   }
  },
  {
   "cell_type": "code",
   "execution_count": null,
   "outputs": [],
   "source": [],
   "metadata": {
    "collapsed": false
   }
  }
 ],
 "metadata": {
  "kernelspec": {
   "display_name": "Python 3 (ipykernel)",
   "language": "python",
   "name": "python3"
  },
  "language_info": {
   "codemirror_mode": {
    "name": "ipython",
    "version": 3
   },
   "file_extension": ".py",
   "mimetype": "text/x-python",
   "name": "python",
   "nbconvert_exporter": "python",
   "pygments_lexer": "ipython3",
   "version": "3.11.0"
  }
 },
 "nbformat": 4,
 "nbformat_minor": 1
}
